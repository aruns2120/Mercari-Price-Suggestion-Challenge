{
 "cells": [
  {
   "cell_type": "code",
   "execution_count": 0,
   "metadata": {
    "colab": {},
    "colab_type": "code",
    "id": "nxtGCfvgqHrr"
   },
   "outputs": [],
   "source": [
    "import warnings\n",
    "warnings.filterwarnings('ignore')\n",
    "\n",
    "import os\n",
    "import shutil\n",
    "import datetime\n",
    "import gc\n",
    "from tqdm import tqdm\n",
    "\n",
    "import pandas as pd\n",
    "import numpy as np\n",
    "\n",
    "%matplotlib inline\n",
    "import matplotlib.pyplot as plt\n",
    "import seaborn as sns\n",
    "sns.set(style='whitegrid')\n",
    "\n",
    "\n",
    "import scipy\n",
    "from scipy import hstack\n",
    "\n",
    "\n",
    "from sklearn.metrics import mean_squared_error as mse\n",
    "from math import sqrt\n",
    "from sklearn.linear_model import Ridge\n",
    "from sklearn.svm import SVR\n",
    "from sklearn.ensemble import RandomForestRegressor\n",
    "from lightgbm import LGBMRegressor\n",
    "\n",
    "from sklearn.model_selection import RandomizedSearchCV \n",
    "from scipy.stats import randint as sp_randint\n",
    "from scipy.stats import uniform\n",
    "from sklearn.feature_selection.univariate_selection import SelectKBest, f_regression"
   ]
  },
  {
   "cell_type": "markdown",
   "metadata": {
    "colab_type": "text",
    "id": "Cvt8BoiMqHr7"
   },
   "source": [
    "**Loading data**"
   ]
  },
  {
   "cell_type": "code",
   "execution_count": 2,
   "metadata": {
    "colab": {
     "base_uri": "https://localhost:8080/",
     "height": 34
    },
    "colab_type": "code",
    "executionInfo": {
     "elapsed": 705,
     "status": "ok",
     "timestamp": 1584173344032,
     "user": {
      "displayName": "Arun Singh",
      "photoUrl": "https://lh3.googleusercontent.com/a-/AOh14GiLB1oZWi0vJw-6NUEFnpDZhxuDlv90nmX88O0y-A=s64",
      "userId": "01425536422013553450"
     },
     "user_tz": -330
    },
    "id": "rDIreBF5s4Ff",
    "outputId": "6d70d503-c142-4486-944f-82d6e4d6da72"
   },
   "outputs": [
    {
     "name": "stdout",
     "output_type": "stream",
     "text": [
      "Drive already mounted at /content/drive; to attempt to forcibly remount, call drive.mount(\"/content/drive\", force_remount=True).\n"
     ]
    }
   ],
   "source": [
    "from google.colab import drive\n",
    "drive.mount('/content/drive')"
   ]
  },
  {
   "cell_type": "code",
   "execution_count": 0,
   "metadata": {
    "colab": {},
    "colab_type": "code",
    "id": "I7MVOrHCtyXx"
   },
   "outputs": [],
   "source": [
    "os.chdir('/content/drive/My Drive/Colab Notebooks/MercariCS')"
   ]
  },
  {
   "cell_type": "code",
   "execution_count": 4,
   "metadata": {
    "colab": {
     "base_uri": "https://localhost:8080/",
     "height": 34
    },
    "colab_type": "code",
    "executionInfo": {
     "elapsed": 8697,
     "status": "ok",
     "timestamp": 1584173356944,
     "user": {
      "displayName": "Arun Singh",
      "photoUrl": "https://lh3.googleusercontent.com/a-/AOh14GiLB1oZWi0vJw-6NUEFnpDZhxuDlv90nmX88O0y-A=s64",
      "userId": "01425536422013553450"
     },
     "user_tz": -330
    },
    "id": "SOEDMdj3qHsC",
    "outputId": "98e773cc-fe96-4de7-e418-b0b23d1fc6a7"
   },
   "outputs": [
    {
     "data": {
      "text/plain": [
       "((1332967, 48049), (1332967,), (148108, 48049), (148108,))"
      ]
     },
     "execution_count": 4,
     "metadata": {
      "tags": []
     },
     "output_type": "execute_result"
    }
   ],
   "source": [
    "X_train = scipy.sparse.load_npz(\"train_final.npz\")\n",
    "y_train = np.load('y_train.npy')\n",
    "\n",
    "X_cv = scipy.sparse.load_npz(\"cv_final.npz\")\n",
    "y_cv = np.load('y_cv.npy')\n",
    "\n",
    "# X_test = scipy.sparse.load_npz(\"test_final.npz\")\n",
    "X_train.shape, y_train.shape, X_cv.shape, y_cv.shape"
   ]
  },
  {
   "cell_type": "markdown",
   "metadata": {
    "colab_type": "text",
    "id": "jAgDOLvLqHsK"
   },
   "source": [
    "### 6.3. SVM Regression"
   ]
  },
  {
   "cell_type": "markdown",
   "metadata": {
    "colab_type": "text",
    "id": "c57iSJliqHsM"
   },
   "source": [
    "#### Hyper parameter tuning using RandomizedSearchCV"
   ]
  },
  {
   "cell_type": "code",
   "execution_count": 7,
   "metadata": {
    "colab": {
     "base_uri": "https://localhost:8080/",
     "height": 420
    },
    "colab_type": "code",
    "executionInfo": {
     "elapsed": 1786293,
     "status": "ok",
     "timestamp": 1584175700495,
     "user": {
      "displayName": "Arun Singh",
      "photoUrl": "https://lh3.googleusercontent.com/a-/AOh14GiLB1oZWi0vJw-6NUEFnpDZhxuDlv90nmX88O0y-A=s64",
      "userId": "01425536422013553450"
     },
     "user_tz": -330
    },
    "id": "JBB5l7JOqHsQ",
    "outputId": "159bad1a-eb69-4890-b2c8-0c4418b75b6e"
   },
   "outputs": [
    {
     "name": "stdout",
     "output_type": "stream",
     "text": [
      "RMSLE for C= 0.01 is 1.199926186837584\n",
      "RMSLE for C= 0.03 is 1.0373687259431916\n",
      "RMSLE for C= 0.1 is 0.7031124570842185\n",
      "RMSLE for C= 0.3 is 0.45763721721801703\n",
      "RMSLE for C= 1 is 0.9825724712557466\n",
      "RMSLE for C= 3 is 0.6889839235210923\n",
      "RMSLE for C= 10 is 0.7062493308619081\n"
     ]
    },
    {
     "data": {
      "image/png": "[encoded data removed]",
      "text/plain": [
       "<Figure size 432x288 with 1 Axes>"
      ]
     },
     "metadata": {
      "tags": []
     },
     "output_type": "display_data"
    }
   ],
   "source": [
    "c_param = [0.01, 0.03, 0.1, 0.3, 1, 3, 10]\n",
    "cv_rmsle_array=[]\n",
    "\n",
    "for i in c_param:\n",
    "    model = SVR(C=i, max_iter=200)\n",
    "    model.fit(X_train, y_train)\n",
    "    preds_cv = model.predict(X_cv)\n",
    "    cv_err = sqrt(mse(y_cv, preds_cv))\n",
    "    cv_rmsle_array.append(cv_err)\n",
    "\n",
    "    print('RMSLE for C=',i, 'is', cv_err)\n",
    "\n",
    "best_C = np.argmin(cv_rmsle_array)\n",
    "\n",
    "fig, ax = plt.subplots()\n",
    "ax.plot(c_param, cv_rmsle_array)\n",
    "ax.scatter(c_param, cv_rmsle_array)\n",
    "for i, txt in enumerate(np.round(cv_rmsle_array,3)):\n",
    "    ax.annotate((c_param[i],np.round(txt,3)), (c_param[i],cv_rmsle_array[i]))\n",
    "plt.title(\"Cross Validation Error for each C\")\n",
    "plt.xlabel(\"C\")\n",
    "plt.ylabel(\"Error\")\n",
    "plt.show()"
   ]
  },
  {
   "cell_type": "markdown",
   "metadata": {
    "colab_type": "text",
    "id": "zu6lG2UGqHsp"
   },
   "source": [
    "#### Training and testing using best parameters "
   ]
  },
  {
   "cell_type": "code",
   "execution_count": 9,
   "metadata": {
    "colab": {
     "base_uri": "https://localhost:8080/",
     "height": 68
    },
    "colab_type": "code",
    "executionInfo": {
     "elapsed": 218811,
     "status": "ok",
     "timestamp": 1584176274717,
     "user": {
      "displayName": "Arun Singh",
      "photoUrl": "https://lh3.googleusercontent.com/a-/AOh14GiLB1oZWi0vJw-6NUEFnpDZhxuDlv90nmX88O0y-A=s64",
      "userId": "01425536422013553450"
     },
     "user_tz": -330
    },
    "id": "77T0Nd4rPM94",
    "outputId": "2ad8c746-8201-4b31-bf5f-03a12a2cf465"
   },
   "outputs": [
    {
     "name": "stdout",
     "output_type": "stream",
     "text": [
      "Best C:  0.3\n"
     ]
    },
    {
     "data": {
      "text/plain": [
       "SVR(C=0.3, cache_size=200, coef0=0.0, degree=3, epsilon=0.1, gamma='scale',\n",
       "    kernel='rbf', max_iter=200, shrinking=True, tol=0.001, verbose=False)"
      ]
     },
     "execution_count": 9,
     "metadata": {
      "tags": []
     },
     "output_type": "execute_result"
    }
   ],
   "source": [
    "best_C = c_param[best_C]\n",
    "print('Best C: ', best_C)\n",
    "model = SVR(C=best_C, max_iter=200)\n",
    "model.fit(X_train, y_train)"
   ]
  },
  {
   "cell_type": "code",
   "execution_count": 10,
   "metadata": {
    "colab": {
     "base_uri": "https://localhost:8080/",
     "height": 51
    },
    "colab_type": "code",
    "executionInfo": {
     "elapsed": 226034,
     "status": "ok",
     "timestamp": 1584176527418,
     "user": {
      "displayName": "Arun Singh",
      "photoUrl": "https://lh3.googleusercontent.com/a-/AOh14GiLB1oZWi0vJw-6NUEFnpDZhxuDlv90nmX88O0y-A=s64",
      "userId": "01425536422013553450"
     },
     "user_tz": -330
    },
    "id": "RdPlu1R4qHs3",
    "outputId": "261219de-8581-41af-9217-01e08b950d3a"
   },
   "outputs": [
    {
     "name": "stdout",
     "output_type": "stream",
     "text": [
      "Train RMSLE: 0.44156303699190574\n",
      "Cross validation RMSLE:  0.45763721721801703\n"
     ]
    }
   ],
   "source": [
    "svr_preds_tr = model.predict(X_train)\n",
    "svr_preds_cv = model.predict(X_cv)\n",
    "print('Train RMSLE:', sqrt(mse(y_train, svr_preds_tr)))\n",
    "\n",
    "svr_rmsle = sqrt(mse(y_cv, svr_preds_cv))\n",
    "print(\"Cross validation RMSLE: \", svr_rmsle)"
   ]
  },
  {
   "cell_type": "markdown",
   "metadata": {
    "colab_type": "text",
    "id": "ehHjX3aSqHtK"
   },
   "source": [
    "### 6.4. RandomForest Regression"
   ]
  },
  {
   "cell_type": "markdown",
   "metadata": {
    "colab_type": "text",
    "id": "cnYeZWqdqHtL"
   },
   "source": [
    "#### Hyper parameter tuning using RandomizedSearchCV"
   ]
  },
  {
   "cell_type": "code",
   "execution_count": 25,
   "metadata": {
    "colab": {
     "base_uri": "https://localhost:8080/",
     "height": 335
    },
    "colab_type": "code",
    "executionInfo": {
     "elapsed": 7333208,
     "status": "ok",
     "timestamp": 1584202148337,
     "user": {
      "displayName": "Arun Singh",
      "photoUrl": "https://lh3.googleusercontent.com/a-/AOh14GiLB1oZWi0vJw-6NUEFnpDZhxuDlv90nmX88O0y-A=s64",
      "userId": "01425536422013553450"
     },
     "user_tz": -330
    },
    "id": "1nd5LxBCG_9c",
    "outputId": "e25e3eb0-ce48-44c6-e4cc-0a540c8a86ae",
    "scrolled": true
   },
   "outputs": [
    {
     "name": "stdout",
     "output_type": "stream",
     "text": [
      "RMSLE for N=10 is 0.487657647189664\t elapsed time:0:46:21.136700\n",
      "RMSLE for N=20 is 0.47260697582126654\t elapsed time:2:02:11.229545\n"
     ]
    },
    {
     "data": {
      "image/png": "[encoded data removed]",
      "text/plain": [
       "<Figure size 432x288 with 1 Axes>"
      ]
     },
     "metadata": {
      "tags": []
     },
     "output_type": "display_data"
    }
   ],
   "source": [
    "dt = datetime.datetime #to track time\n",
    "\n",
    "estimators = [10, 20]\n",
    "cv_rmsle_array=[]\n",
    "t0 = dt.now()\n",
    "for i in estimators:\n",
    "    model = RandomForestRegressor(n_estimators=i, min_samples_split=10, max_features='sqrt', max_samples=0.9, random_state=42)\n",
    "    model.fit(X_train, y_train)\n",
    "    preds_cv = model.predict(X_cv)\n",
    "    cv_err = sqrt(mse(y_cv, preds_cv))\n",
    "    cv_rmsle_array.append(cv_err)\n",
    "\n",
    "    print (f'RMSLE for N={i} is {cv_err}\\t elapsed time:{dt.now() - t0}')\n",
    "\n",
    "best_N = np.argmin(cv_rmsle_array)\n",
    "\n",
    "fig, ax = plt.subplots()\n",
    "ax.plot(estimators, cv_rmsle_array)\n",
    "ax.scatter(estimators, cv_rmsle_array)\n",
    "for i, txt in enumerate(np.round(cv_rmsle_array,3)):\n",
    "    ax.annotate((estimators[i],np.round(txt,3)), (estimators[i],cv_rmsle_array[i]))\n",
    "plt.title(\"Cross Validation Error for each N\")\n",
    "plt.xlabel(\"n_estimators\")\n",
    "plt.ylabel(\"Error\")\n",
    "plt.show()"
   ]
  },
  {
   "cell_type": "markdown",
   "metadata": {},
   "source": [
    "**Training RandomForest Regressor with higher values of n_estimators was taking tremendous amount of time without giving any results. Due to this reason, we have trained it with less number of estimators. The above code itself took approx. 3 hrs and hence, we did not train further.**"
   ]
  },
  {
   "cell_type": "markdown",
   "metadata": {
    "colab_type": "text",
    "id": "42uDBuWuqHte"
   },
   "source": [
    "#### Training and testing using best parameters "
   ]
  },
  {
   "cell_type": "code",
   "execution_count": null,
   "metadata": {
    "colab": {
     "base_uri": "https://localhost:8080/",
     "height": 357
    },
    "colab_type": "code",
    "executionInfo": {
     "elapsed": 1885291,
     "status": "error",
     "timestamp": 1584204419505,
     "user": {
      "displayName": "Arun Singh",
      "photoUrl": "https://lh3.googleusercontent.com/a-/AOh14GiLB1oZWi0vJw-6NUEFnpDZhxuDlv90nmX88O0y-A=s64",
      "userId": "01425536422013553450"
     },
     "user_tz": -330
    },
    "id": "Pj3KAn8XqHtg",
    "outputId": "d820d2a8-d31d-4c7b-e16b-3bc5d2cf515c",
    "scrolled": false
   },
   "outputs": [],
   "source": [
    "best_N = estimators[best_N]\n",
    "print('Best n_estimators: ', best_N)\n",
    "model = RandomForestRegressor(n_estimators=best_N, min_samples_split=10, max_features='sqrt', max_samples=0.9, random_state=42)\n",
    "model.fit(X_train, y_train)"
   ]
  },
  {
   "cell_type": "code",
   "execution_count": 0,
   "metadata": {
    "colab": {},
    "colab_type": "code",
    "id": "w8V3BYaXqHtn"
   },
   "outputs": [],
   "source": [
    "# X_test = scipy.sparse.load_npz(\"test_final.npz\")"
   ]
  },
  {
   "cell_type": "code",
   "execution_count": null,
   "metadata": {
    "colab": {
     "base_uri": "https://localhost:8080/",
     "height": 374
    },
    "colab_type": "code",
    "executionInfo": {
     "elapsed": 845,
     "status": "error",
     "timestamp": 1584204768954,
     "user": {
      "displayName": "Arun Singh",
      "photoUrl": "https://lh3.googleusercontent.com/a-/AOh14GiLB1oZWi0vJw-6NUEFnpDZhxuDlv90nmX88O0y-A=s64",
      "userId": "01425536422013553450"
     },
     "user_tz": -330
    },
    "id": "KPga0r59qHtr",
    "outputId": "5431fbed-e57d-41c6-c8b7-da54819b0da8",
    "scrolled": true
   },
   "outputs": [],
   "source": [
    "rf_preds_tr = model.predict(X_train)\n",
    "rf_preds_cv = model.predict(X_cv)\n",
    "# rf_preds_te = model.predict(X_test)\n",
    "\n",
    "print('Train RMSLE:', sqrt(mse(y_train, rf_preds_tr)))\n",
    "\n",
    "rf_rmsle = sqrt(mse(y_cv, rf_preds_cv))\n",
    "print(\"Cross validation RMSLE: \", rf_rmsle)"
   ]
  },
  {
   "cell_type": "markdown",
   "metadata": {
    "colab_type": "text",
    "id": "cxu9IDJDqHt2"
   },
   "source": [
    "### 6.5. LightGBM Regression"
   ]
  },
  {
   "cell_type": "markdown",
   "metadata": {
    "colab_type": "text",
    "id": "yJJikTXMqHt3"
   },
   "source": [
    "#### Hyper parameter tuning using RandomizedSearchCV"
   ]
  },
  {
   "cell_type": "code",
   "execution_count": 0,
   "metadata": {
    "colab": {},
    "colab_type": "code",
    "id": "nRny4uSDqHt4",
    "outputId": "82f9e435-d48b-4abc-d233-876907b3f547"
   },
   "outputs": [
    {
     "name": "stdout",
     "output_type": "stream",
     "text": [
      "Fitting 3 folds for each of 10 candidates, totalling 30 fits\n",
      "[CV] colsample_bytree=0.3745401188473625, learning_rate=0.9507143064099162, max_depth=12, min_child_weight=1.5593820005455385, n_estimators=1244, num_leaves=122 \n"
     ]
    },
    {
     "name": "stderr",
     "output_type": "stream",
     "text": [
      "[Parallel(n_jobs=1)]: Using backend SequentialBackend with 1 concurrent workers.\n"
     ]
    },
    {
     "name": "stdout",
     "output_type": "stream",
     "text": [
      "[CV]  colsample_bytree=0.3745401188473625, learning_rate=0.9507143064099162, max_depth=12, min_child_weight=1.5593820005455385, n_estimators=1244, num_leaves=122, score=(train=-0.268, test=-0.439), total= 5.4min\n",
      "[CV] colsample_bytree=0.3745401188473625, learning_rate=0.9507143064099162, max_depth=12, min_child_weight=1.5593820005455385, n_estimators=1244, num_leaves=122 \n"
     ]
    },
    {
     "name": "stderr",
     "output_type": "stream",
     "text": [
      "[Parallel(n_jobs=1)]: Done   1 out of   1 | elapsed:  5.9min remaining:    0.0s\n"
     ]
    },
    {
     "name": "stdout",
     "output_type": "stream",
     "text": [
      "[CV]  colsample_bytree=0.3745401188473625, learning_rate=0.9507143064099162, max_depth=12, min_child_weight=1.5593820005455385, n_estimators=1244, num_leaves=122, score=(train=-0.272, test=-0.444), total= 5.6min\n",
      "[CV] colsample_bytree=0.3745401188473625, learning_rate=0.9507143064099162, max_depth=12, min_child_weight=1.5593820005455385, n_estimators=1244, num_leaves=122 \n"
     ]
    },
    {
     "name": "stderr",
     "output_type": "stream",
     "text": [
      "[Parallel(n_jobs=1)]: Done   2 out of   2 | elapsed: 12.0min remaining:    0.0s\n"
     ]
    },
    {
     "name": "stdout",
     "output_type": "stream",
     "text": [
      "[CV]  colsample_bytree=0.3745401188473625, learning_rate=0.9507143064099162, max_depth=12, min_child_weight=1.5593820005455385, n_estimators=1244, num_leaves=122, score=(train=-0.266, test=-0.434), total= 5.6min\n",
      "[CV] colsample_bytree=0.44583275285359114, learning_rate=0.09997491581800289, max_depth=12, min_child_weight=1.7323522915498704, n_estimators=1323, num_leaves=123 \n"
     ]
    },
    {
     "name": "stderr",
     "output_type": "stream",
     "text": [
      "[Parallel(n_jobs=1)]: Done   3 out of   3 | elapsed: 18.2min remaining:    0.0s\n"
     ]
    },
    {
     "name": "stdout",
     "output_type": "stream",
     "text": [
      "[CV]  colsample_bytree=0.44583275285359114, learning_rate=0.09997491581800289, max_depth=12, min_child_weight=1.7323522915498704, n_estimators=1323, num_leaves=123, score=(train=-0.313, test=-0.355), total= 7.6min\n",
      "[CV] colsample_bytree=0.44583275285359114, learning_rate=0.09997491581800289, max_depth=12, min_child_weight=1.7323522915498704, n_estimators=1323, num_leaves=123 \n"
     ]
    },
    {
     "name": "stderr",
     "output_type": "stream",
     "text": [
      "[Parallel(n_jobs=1)]: Done   4 out of   4 | elapsed: 26.3min remaining:    0.0s\n"
     ]
    },
    {
     "name": "stdout",
     "output_type": "stream",
     "text": [
      "[CV]  colsample_bytree=0.44583275285359114, learning_rate=0.09997491581800289, max_depth=12, min_child_weight=1.7323522915498704, n_estimators=1323, num_leaves=123, score=(train=-0.314, test=-0.354), total= 7.8min\n",
      "[CV] colsample_bytree=0.44583275285359114, learning_rate=0.09997491581800289, max_depth=12, min_child_weight=1.7323522915498704, n_estimators=1323, num_leaves=123 \n"
     ]
    },
    {
     "name": "stderr",
     "output_type": "stream",
     "text": [
      "[Parallel(n_jobs=1)]: Done   5 out of   5 | elapsed: 34.6min remaining:    0.0s\n"
     ]
    },
    {
     "name": "stdout",
     "output_type": "stream",
     "text": [
      "[CV]  colsample_bytree=0.44583275285359114, learning_rate=0.09997491581800289, max_depth=12, min_child_weight=1.7323522915498704, n_estimators=1323, num_leaves=123, score=(train=-0.315, test=-0.353), total= 7.7min\n",
      "[CV] colsample_bytree=0.7080725777960455, learning_rate=0.020584494295802447, max_depth=3, min_child_weight=1.4439975445336495, n_estimators=1005, num_leaves=149 \n"
     ]
    },
    {
     "name": "stderr",
     "output_type": "stream",
     "text": [
      "[Parallel(n_jobs=1)]: Done   6 out of   6 | elapsed: 42.9min remaining:    0.0s\n"
     ]
    },
    {
     "name": "stdout",
     "output_type": "stream",
     "text": [
      "[CV]  colsample_bytree=0.7080725777960455, learning_rate=0.020584494295802447, max_depth=3, min_child_weight=1.4439975445336495, n_estimators=1005, num_leaves=149, score=(train=-0.368, test=-0.369), total= 2.3min\n",
      "[CV] colsample_bytree=0.7080725777960455, learning_rate=0.020584494295802447, max_depth=3, min_child_weight=1.4439975445336495, n_estimators=1005, num_leaves=149 \n"
     ]
    },
    {
     "name": "stderr",
     "output_type": "stream",
     "text": [
      "[Parallel(n_jobs=1)]: Done   7 out of   7 | elapsed: 45.4min remaining:    0.0s\n"
     ]
    },
    {
     "name": "stdout",
     "output_type": "stream",
     "text": [
      "[CV]  colsample_bytree=0.7080725777960455, learning_rate=0.020584494295802447, max_depth=3, min_child_weight=1.4439975445336495, n_estimators=1005, num_leaves=149, score=(train=-0.368, test=-0.369), total= 2.3min\n",
      "[CV] colsample_bytree=0.7080725777960455, learning_rate=0.020584494295802447, max_depth=3, min_child_weight=1.4439975445336495, n_estimators=1005, num_leaves=149 \n"
     ]
    },
    {
     "name": "stderr",
     "output_type": "stream",
     "text": [
      "[Parallel(n_jobs=1)]: Done   8 out of   8 | elapsed: 47.9min remaining:    0.0s\n"
     ]
    },
    {
     "name": "stdout",
     "output_type": "stream",
     "text": [
      "[CV]  colsample_bytree=0.7080725777960455, learning_rate=0.020584494295802447, max_depth=3, min_child_weight=1.4439975445336495, n_estimators=1005, num_leaves=149, score=(train=-0.368, test=-0.368), total= 2.3min\n",
      "[CV] colsample_bytree=0.18182496720710062, learning_rate=0.18340450985343382, max_depth=13, min_child_weight=1.2233063209765618, n_estimators=452, num_leaves=108 \n"
     ]
    },
    {
     "name": "stderr",
     "output_type": "stream",
     "text": [
      "[Parallel(n_jobs=1)]: Done   9 out of   9 | elapsed: 50.5min remaining:    0.0s\n"
     ]
    },
    {
     "name": "stdout",
     "output_type": "stream",
     "text": [
      "[CV]  colsample_bytree=0.18182496720710062, learning_rate=0.18340450985343382, max_depth=13, min_child_weight=1.2233063209765618, n_estimators=452, num_leaves=108, score=(train=-0.329, test=-0.360), total= 2.8min\n",
      "[CV] colsample_bytree=0.18182496720710062, learning_rate=0.18340450985343382, max_depth=13, min_child_weight=1.2233063209765618, n_estimators=452, num_leaves=108 \n",
      "[CV]  colsample_bytree=0.18182496720710062, learning_rate=0.18340450985343382, max_depth=13, min_child_weight=1.2233063209765618, n_estimators=452, num_leaves=108, score=(train=-0.330, test=-0.360), total= 3.0min\n",
      "[CV] colsample_bytree=0.18182496720710062, learning_rate=0.18340450985343382, max_depth=13, min_child_weight=1.2233063209765618, n_estimators=452, num_leaves=108 \n",
      "[CV]  colsample_bytree=0.18182496720710062, learning_rate=0.18340450985343382, max_depth=13, min_child_weight=1.2233063209765618, n_estimators=452, num_leaves=108, score=(train=-0.329, test=-0.358), total= 2.9min\n",
      "[CV] colsample_bytree=0.2912291401980419, learning_rate=0.6118528947223795, max_depth=11, min_child_weight=0.09333132642723085, n_estimators=899, num_leaves=34 \n",
      "[CV]  colsample_bytree=0.2912291401980419, learning_rate=0.6118528947223795, max_depth=11, min_child_weight=0.09333132642723085, n_estimators=899, num_leaves=34, score=(train=-0.317, test=-0.372), total= 3.2min\n",
      "[CV] colsample_bytree=0.2912291401980419, learning_rate=0.6118528947223795, max_depth=11, min_child_weight=0.09333132642723085, n_estimators=899, num_leaves=34 \n",
      "[CV]  colsample_bytree=0.2912291401980419, learning_rate=0.6118528947223795, max_depth=11, min_child_weight=0.09333132642723085, n_estimators=899, num_leaves=34, score=(train=-0.320, test=-0.374), total= 3.3min\n",
      "[CV] colsample_bytree=0.2912291401980419, learning_rate=0.6118528947223795, max_depth=11, min_child_weight=0.09333132642723085, n_estimators=899, num_leaves=34 \n",
      "[CV]  colsample_bytree=0.2912291401980419, learning_rate=0.6118528947223795, max_depth=11, min_child_weight=0.09333132642723085, n_estimators=899, num_leaves=34, score=(train=-0.317, test=-0.369), total= 3.3min\n",
      "[CV] colsample_bytree=0.45606998421703593, learning_rate=0.7851759613930136, max_depth=4, min_child_weight=0.7649239825343255, n_estimators=1467, num_leaves=83 \n",
      "[CV]  colsample_bytree=0.45606998421703593, learning_rate=0.7851759613930136, max_depth=4, min_child_weight=0.7649239825343255, n_estimators=1467, num_leaves=83, score=(train=-0.337, test=-0.372), total= 2.8min\n",
      "[CV] colsample_bytree=0.45606998421703593, learning_rate=0.7851759613930136, max_depth=4, min_child_weight=0.7649239825343255, n_estimators=1467, num_leaves=83 \n",
      "[CV]  colsample_bytree=0.45606998421703593, learning_rate=0.7851759613930136, max_depth=4, min_child_weight=0.7649239825343255, n_estimators=1467, num_leaves=83, score=(train=-0.338, test=-0.372), total= 2.8min\n",
      "[CV] colsample_bytree=0.45606998421703593, learning_rate=0.7851759613930136, max_depth=4, min_child_weight=0.7649239825343255, n_estimators=1467, num_leaves=83 \n",
      "[CV]  colsample_bytree=0.45606998421703593, learning_rate=0.7851759613930136, max_depth=4, min_child_weight=0.7649239825343255, n_estimators=1467, num_leaves=83, score=(train=-0.337, test=-0.370), total= 2.9min\n",
      "[CV] colsample_bytree=0.4667628932479799, learning_rate=0.8599404067363206, max_depth=8, min_child_weight=0.34104824737458306, n_estimators=366, num_leaves=37 \n",
      "[CV]  colsample_bytree=0.4667628932479799, learning_rate=0.8599404067363206, max_depth=8, min_child_weight=0.34104824737458306, n_estimators=366, num_leaves=37, score=(train=-0.342, test=-0.380), total= 1.3min\n",
      "[CV] colsample_bytree=0.4667628932479799, learning_rate=0.8599404067363206, max_depth=8, min_child_weight=0.34104824737458306, n_estimators=366, num_leaves=37 \n",
      "[CV]  colsample_bytree=0.4667628932479799, learning_rate=0.8599404067363206, max_depth=8, min_child_weight=0.34104824737458306, n_estimators=366, num_leaves=37, score=(train=-0.348, test=-0.385), total= 1.4min\n",
      "[CV] colsample_bytree=0.4667628932479799, learning_rate=0.8599404067363206, max_depth=8, min_child_weight=0.34104824737458306, n_estimators=366, num_leaves=37 \n",
      "[CV]  colsample_bytree=0.4667628932479799, learning_rate=0.8599404067363206, max_depth=8, min_child_weight=0.34104824737458306, n_estimators=366, num_leaves=37, score=(train=-0.343, test=-0.379), total= 1.4min\n",
      "[CV] colsample_bytree=0.9488855372533332, learning_rate=0.9656320330745594, max_depth=3, min_child_weight=0.7708330050798322, n_estimators=764, num_leaves=149 \n",
      "[CV]  colsample_bytree=0.9488855372533332, learning_rate=0.9656320330745594, max_depth=3, min_child_weight=0.7708330050798322, n_estimators=764, num_leaves=149, score=(train=-0.348, test=-0.365), total= 1.5min\n",
      "[CV] colsample_bytree=0.9488855372533332, learning_rate=0.9656320330745594, max_depth=3, min_child_weight=0.7708330050798322, n_estimators=764, num_leaves=149 \n",
      "[CV]  colsample_bytree=0.9488855372533332, learning_rate=0.9656320330745594, max_depth=3, min_child_weight=0.7708330050798322, n_estimators=764, num_leaves=149, score=(train=-0.349, test=-0.365), total= 1.4min\n",
      "[CV] colsample_bytree=0.9488855372533332, learning_rate=0.9656320330745594, max_depth=3, min_child_weight=0.7708330050798322, n_estimators=764, num_leaves=149 \n",
      "[CV]  colsample_bytree=0.9488855372533332, learning_rate=0.9656320330745594, max_depth=3, min_child_weight=0.7708330050798322, n_estimators=764, num_leaves=149, score=(train=-0.349, test=-0.364), total= 1.5min\n",
      "[CV] colsample_bytree=0.6842330265121569, learning_rate=0.4401524937396013, max_depth=8, min_child_weight=1.2199933155652418, n_estimators=975, num_leaves=194 \n",
      "[CV]  colsample_bytree=0.6842330265121569, learning_rate=0.4401524937396013, max_depth=8, min_child_weight=1.2199933155652418, n_estimators=975, num_leaves=194, score=(train=-0.309, test=-0.363), total= 3.6min\n",
      "[CV] colsample_bytree=0.6842330265121569, learning_rate=0.4401524937396013, max_depth=8, min_child_weight=1.2199933155652418, n_estimators=975, num_leaves=194 \n",
      "[CV]  colsample_bytree=0.6842330265121569, learning_rate=0.4401524937396013, max_depth=8, min_child_weight=1.2199933155652418, n_estimators=975, num_leaves=194, score=(train=-0.309, test=-0.361), total= 3.5min\n",
      "[CV] colsample_bytree=0.6842330265121569, learning_rate=0.4401524937396013, max_depth=8, min_child_weight=1.2199933155652418, n_estimators=975, num_leaves=194 \n",
      "[CV]  colsample_bytree=0.6842330265121569, learning_rate=0.4401524937396013, max_depth=8, min_child_weight=1.2199933155652418, n_estimators=975, num_leaves=194, score=(train=-0.309, test=-0.361), total= 3.7min\n",
      "[CV] colsample_bytree=0.17336465350777208, learning_rate=0.3910606075732408, max_depth=3, min_child_weight=1.325044568707964, n_estimators=1225, num_leaves=153 \n",
      "[CV]  colsample_bytree=0.17336465350777208, learning_rate=0.3910606075732408, max_depth=3, min_child_weight=1.325044568707964, n_estimators=1225, num_leaves=153, score=(train=-0.353, test=-0.363), total= 1.7min\n",
      "[CV] colsample_bytree=0.17336465350777208, learning_rate=0.3910606075732408, max_depth=3, min_child_weight=1.325044568707964, n_estimators=1225, num_leaves=153 \n",
      "[CV]  colsample_bytree=0.17336465350777208, learning_rate=0.3910606075732408, max_depth=3, min_child_weight=1.325044568707964, n_estimators=1225, num_leaves=153, score=(train=-0.355, test=-0.364), total= 1.9min\n",
      "[CV] colsample_bytree=0.17336465350777208, learning_rate=0.3910606075732408, max_depth=3, min_child_weight=1.325044568707964, n_estimators=1225, num_leaves=153 \n",
      "[CV]  colsample_bytree=0.17336465350777208, learning_rate=0.3910606075732408, max_depth=3, min_child_weight=1.325044568707964, n_estimators=1225, num_leaves=153, score=(train=-0.354, test=-0.362), total= 1.9min\n"
     ]
    },
    {
     "name": "stderr",
     "output_type": "stream",
     "text": [
      "[Parallel(n_jobs=1)]: Done  30 out of  30 | elapsed: 107.3min finished\n"
     ]
    }
   ],
   "source": [
    "lgb_model = LGBMRegressor(subsample=0.9)\n",
    "\n",
    "params = {'learning_rate': uniform(0, 1),\n",
    "          'n_estimators': sp_randint(200, 1500),\n",
    "          'num_leaves': sp_randint(20, 200),\n",
    "          'max_depth': sp_randint(2, 15),\n",
    "          'min_child_weight': uniform(0, 2),\n",
    "          'colsample_bytree': uniform(0, 1),\n",
    "         }\n",
    "lgb_random = RandomizedSearchCV(lgb_model, param_distributions=params, n_iter=10, cv=3, random_state=42, \n",
    "                                scoring='neg_root_mean_squared_error', verbose=10, return_train_score=True)\n",
    "lgb_random = lgb_random.fit(X_train, y_train)"
   ]
  },
  {
   "cell_type": "code",
   "execution_count": 0,
   "metadata": {
    "colab": {},
    "colab_type": "code",
    "id": "E91wPSoYqHuB",
    "outputId": "fa550948-cac0-4d2f-8faa-a028362e44b6"
   },
   "outputs": [
    {
     "data": {
      "text/html": [
       "<div>\n",
       "<style scoped>\n",
       "    .dataframe tbody tr th:only-of-type {\n",
       "        vertical-align: middle;\n",
       "    }\n",
       "\n",
       "    .dataframe tbody tr th {\n",
       "        vertical-align: top;\n",
       "    }\n",
       "\n",
       "    .dataframe thead th {\n",
       "        text-align: right;\n",
       "    }\n",
       "</style>\n",
       "<table border=\"1\" class=\"dataframe\">\n",
       "  <thead>\n",
       "    <tr style=\"text-align: right;\">\n",
       "      <th></th>\n",
       "      <th>param_learning_rate</th>\n",
       "      <th>param_n_estimators</th>\n",
       "      <th>param_num_leaves</th>\n",
       "      <th>param_max_depth</th>\n",
       "      <th>param_min_child_weight</th>\n",
       "      <th>param_colsample_bytree</th>\n",
       "      <th>mean_train_score</th>\n",
       "      <th>mean_test_score</th>\n",
       "    </tr>\n",
       "  </thead>\n",
       "  <tbody>\n",
       "    <tr>\n",
       "      <th>0</th>\n",
       "      <td>0.950714</td>\n",
       "      <td>1244</td>\n",
       "      <td>122</td>\n",
       "      <td>12</td>\n",
       "      <td>1.55938</td>\n",
       "      <td>0.37454</td>\n",
       "      <td>-0.268712</td>\n",
       "      <td>-0.438865</td>\n",
       "    </tr>\n",
       "    <tr>\n",
       "      <th>1</th>\n",
       "      <td>0.0999749</td>\n",
       "      <td>1323</td>\n",
       "      <td>123</td>\n",
       "      <td>12</td>\n",
       "      <td>1.73235</td>\n",
       "      <td>0.445833</td>\n",
       "      <td>-0.313804</td>\n",
       "      <td>-0.354006</td>\n",
       "    </tr>\n",
       "    <tr>\n",
       "      <th>2</th>\n",
       "      <td>0.0205845</td>\n",
       "      <td>1005</td>\n",
       "      <td>149</td>\n",
       "      <td>3</td>\n",
       "      <td>1.444</td>\n",
       "      <td>0.708073</td>\n",
       "      <td>-0.368029</td>\n",
       "      <td>-0.368651</td>\n",
       "    </tr>\n",
       "    <tr>\n",
       "      <th>3</th>\n",
       "      <td>0.183405</td>\n",
       "      <td>452</td>\n",
       "      <td>108</td>\n",
       "      <td>13</td>\n",
       "      <td>1.22331</td>\n",
       "      <td>0.181825</td>\n",
       "      <td>-0.329229</td>\n",
       "      <td>-0.359530</td>\n",
       "    </tr>\n",
       "    <tr>\n",
       "      <th>4</th>\n",
       "      <td>0.611853</td>\n",
       "      <td>899</td>\n",
       "      <td>34</td>\n",
       "      <td>11</td>\n",
       "      <td>0.0933313</td>\n",
       "      <td>0.291229</td>\n",
       "      <td>-0.318427</td>\n",
       "      <td>-0.371338</td>\n",
       "    </tr>\n",
       "    <tr>\n",
       "      <th>5</th>\n",
       "      <td>0.785176</td>\n",
       "      <td>1467</td>\n",
       "      <td>83</td>\n",
       "      <td>4</td>\n",
       "      <td>0.764924</td>\n",
       "      <td>0.45607</td>\n",
       "      <td>-0.337573</td>\n",
       "      <td>-0.371254</td>\n",
       "    </tr>\n",
       "    <tr>\n",
       "      <th>6</th>\n",
       "      <td>0.85994</td>\n",
       "      <td>366</td>\n",
       "      <td>37</td>\n",
       "      <td>8</td>\n",
       "      <td>0.341048</td>\n",
       "      <td>0.466763</td>\n",
       "      <td>-0.344313</td>\n",
       "      <td>-0.380979</td>\n",
       "    </tr>\n",
       "    <tr>\n",
       "      <th>7</th>\n",
       "      <td>0.965632</td>\n",
       "      <td>764</td>\n",
       "      <td>149</td>\n",
       "      <td>3</td>\n",
       "      <td>0.770833</td>\n",
       "      <td>0.948886</td>\n",
       "      <td>-0.348773</td>\n",
       "      <td>-0.364846</td>\n",
       "    </tr>\n",
       "    <tr>\n",
       "      <th>8</th>\n",
       "      <td>0.440152</td>\n",
       "      <td>975</td>\n",
       "      <td>194</td>\n",
       "      <td>8</td>\n",
       "      <td>1.21999</td>\n",
       "      <td>0.684233</td>\n",
       "      <td>-0.308797</td>\n",
       "      <td>-0.361790</td>\n",
       "    </tr>\n",
       "    <tr>\n",
       "      <th>9</th>\n",
       "      <td>0.391061</td>\n",
       "      <td>1225</td>\n",
       "      <td>153</td>\n",
       "      <td>3</td>\n",
       "      <td>1.32504</td>\n",
       "      <td>0.173365</td>\n",
       "      <td>-0.353940</td>\n",
       "      <td>-0.362636</td>\n",
       "    </tr>\n",
       "  </tbody>\n",
       "</table>\n",
       "</div>"
      ],
      "text/plain": [
       "  param_learning_rate param_n_estimators param_num_leaves param_max_depth  \\\n",
       "0            0.950714               1244              122              12   \n",
       "1           0.0999749               1323              123              12   \n",
       "2           0.0205845               1005              149               3   \n",
       "3            0.183405                452              108              13   \n",
       "4            0.611853                899               34              11   \n",
       "5            0.785176               1467               83               4   \n",
       "6             0.85994                366               37               8   \n",
       "7            0.965632                764              149               3   \n",
       "8            0.440152                975              194               8   \n",
       "9            0.391061               1225              153               3   \n",
       "\n",
       "  param_min_child_weight param_colsample_bytree  mean_train_score  \\\n",
       "0                1.55938                0.37454         -0.268712   \n",
       "1                1.73235               0.445833         -0.313804   \n",
       "2                  1.444               0.708073         -0.368029   \n",
       "3                1.22331               0.181825         -0.329229   \n",
       "4              0.0933313               0.291229         -0.318427   \n",
       "5               0.764924                0.45607         -0.337573   \n",
       "6               0.341048               0.466763         -0.344313   \n",
       "7               0.770833               0.948886         -0.348773   \n",
       "8                1.21999               0.684233         -0.308797   \n",
       "9                1.32504               0.173365         -0.353940   \n",
       "\n",
       "   mean_test_score  \n",
       "0        -0.438865  \n",
       "1        -0.354006  \n",
       "2        -0.368651  \n",
       "3        -0.359530  \n",
       "4        -0.371338  \n",
       "5        -0.371254  \n",
       "6        -0.380979  \n",
       "7        -0.364846  \n",
       "8        -0.361790  \n",
       "9        -0.362636  "
      ]
     },
     "execution_count": 5,
     "metadata": {
      "tags": []
     },
     "output_type": "execute_result"
    }
   ],
   "source": [
    "df1 = pd.DataFrame(lgb_random.cv_results_)\n",
    "df1[['param_learning_rate', 'param_n_estimators', 'param_num_leaves', 'param_max_depth', 'param_min_child_weight', 'param_colsample_bytree', 'mean_train_score', 'mean_test_score']]"
   ]
  },
  {
   "cell_type": "code",
   "execution_count": 0,
   "metadata": {
    "colab": {},
    "colab_type": "code",
    "id": "YekBUdP9qHuF",
    "outputId": "8e089299-7358-452e-adf1-456123db36e6"
   },
   "outputs": [
    {
     "name": "stdout",
     "output_type": "stream",
     "text": [
      "{'colsample_bytree': 0.44583275285359114, 'learning_rate': 0.09997491581800289, 'max_depth': 12, 'min_child_weight': 1.7323522915498704, 'n_estimators': 1323, 'num_leaves': 123}\n"
     ]
    }
   ],
   "source": [
    "best_params = lgb_random.best_params_\n",
    "print(best_params)"
   ]
  },
  {
   "cell_type": "markdown",
   "metadata": {
    "colab_type": "text",
    "id": "LltDSSWNqHuJ"
   },
   "source": [
    "#### Training and testing using best parameters "
   ]
  },
  {
   "cell_type": "code",
   "execution_count": 0,
   "metadata": {
    "colab": {},
    "colab_type": "code",
    "id": "ywxA4pCbqHuL",
    "outputId": "85b85d12-49f4-44ba-f901-529b32f7a98a"
   },
   "outputs": [
    {
     "data": {
      "text/plain": [
       "LGBMRegressor(boosting_type='gbdt', class_weight=None,\n",
       "              colsample_bytree=0.44583275285359114, importance_type='split',\n",
       "              learning_rate=0.09997491581800289, max_depth=12,\n",
       "              min_child_samples=20, min_child_weight=1.7323522915498704,\n",
       "              min_split_gain=0.0, n_estimators=1323, n_jobs=-1, num_leaves=123,\n",
       "              objective=None, random_state=42, reg_alpha=0.0, reg_lambda=0.0,\n",
       "              silent=True, subsample=0.9, subsample_for_bin=200000,\n",
       "              subsample_freq=0)"
      ]
     },
     "execution_count": 7,
     "metadata": {
      "tags": []
     },
     "output_type": "execute_result"
    }
   ],
   "source": [
    "model = LGBMRegressor(**best_params, subsample=0.9, random_state=42, n_jobs=-1)\n",
    "model.fit(X_train, y_train)"
   ]
  },
  {
   "cell_type": "code",
   "execution_count": 0,
   "metadata": {
    "colab": {},
    "colab_type": "code",
    "id": "Eipyf4VIqHuP"
   },
   "outputs": [],
   "source": [
    "X_cv = scipy.sparse.load_npz(\"cv_final.npz\")\n",
    "y_cv = np.load('y_cv.npy')\n",
    "\n",
    "X_test = scipy.sparse.load_npz(\"test_final.npz\")"
   ]
  },
  {
   "cell_type": "code",
   "execution_count": 0,
   "metadata": {
    "colab": {},
    "colab_type": "code",
    "id": "KAv4add1qHuT",
    "outputId": "d97e8cd7-6a8e-44c5-8d3d-07b5ff96e8c7"
   },
   "outputs": [
    {
     "name": "stdout",
     "output_type": "stream",
     "text": [
      "Train RMSLE: 0.3197898252767807\n",
      "Cross validation RMSLE:  0.42423139030835477\n"
     ]
    }
   ],
   "source": [
    "lgb_preds_tr = model.predict(X_train)\n",
    "lgb_preds_cv = model.predict(X_cv)\n",
    "lgb_preds_te = model.predict(X_test)\n",
    "\n",
    "print('Train RMSLE:', sqrt(mse(y_train, lgb_preds_tr)))\n",
    "\n",
    "lgb_rmsle = sqrt(mse(y_cv, lgb_preds_cv))\n",
    "print(\"Cross validation RMSLE: \", lgb_rmsle)"
   ]
  },
  {
   "cell_type": "markdown",
   "metadata": {
    "colab_type": "text",
    "id": "SXMJOl8QqHuY"
   },
   "source": [
    "**Creating submission file**"
   ]
  },
  {
   "cell_type": "code",
   "execution_count": 0,
   "metadata": {
    "colab": {},
    "colab_type": "code",
    "id": "9TNENQl0qHuZ"
   },
   "outputs": [],
   "source": [
    "submission_df = pd.read_csv('ridge_submission.csv')\n",
    "\n",
    "submission_df['price'] = np.exp(lgb_preds_te) - 1\n",
    "\n",
    "submission_df.to_csv('lgb_submission.csv', index=False)"
   ]
  },
  {
   "cell_type": "markdown",
   "metadata": {
    "colab_type": "text",
    "id": "5FkQ4Q9aqHud"
   },
   "source": [
    "## Summary"
   ]
  },
  {
   "cell_type": "code",
   "execution_count": 3,
   "metadata": {
    "colab": {},
    "colab_type": "code",
    "id": "miqqsp38qHue",
    "outputId": "12692547-dadc-49cd-f6d3-4ae27f1db0f2"
   },
   "outputs": [
    {
     "name": "stdout",
     "output_type": "stream",
     "text": [
      "+----------+--------------------------------------------+-------------+------------------+----------------------+\n",
      "|  Model   |               Feature Space                | Train_RMSLE | Validation_RMSLE | Kaggle_RMSLE(Public) |\n",
      "+----------+--------------------------------------------+-------------+------------------+----------------------+\n",
      "|  Ridge   |     FeatureEngg + cat_OHE + text_TFIDF     |   0.38345   |     0.44153      |       0.45444        |\n",
      "|   SVR    | 48Kbest text&cat + Ridge Preds + MNB Preds |   0.44156   |     0.45764      |          -           |\n",
      "| LightGBM | 48Kbest text&cat + Ridge Preds + MNB Preds |   0.31979   |     0.42423      |       0.45823        |\n",
      "+----------+--------------------------------------------+-------------+------------------+----------------------+\n"
     ]
    }
   ],
   "source": [
    "from prettytable import PrettyTable\n",
    "x=PrettyTable()\n",
    "x.field_names=[\"Model\", \"Feature Space\", \"Train_RMSLE\", \"Validation_RMSLE\", \"Kaggle_RMSLE(Public)\"]\n",
    "x.add_row([\"Ridge\", \"FeatureEngg + cat_OHE + text_TFIDF\", \"0.38345\", \"0.44153\", \"0.45444\"])\n",
    "x.add_row([\"SVR\", \"48Kbest text&cat + Ridge Preds + MNB Preds\", \"0.44156\", \"0.45764\", \"-\"])\n",
    "x.add_row([\"LightGBM\", \"48Kbest text&cat + Ridge Preds + MNB Preds\", \"0.31979\", \"0.42423\", \"0.45823\"])\n",
    "\n",
    "print(x)"
   ]
  },
  {
   "cell_type": "markdown",
   "metadata": {},
   "source": [
    "- **We are able to get pretty decent results with ML models with feature engineering and standard text vectorization.**\n",
    "\n",
    "- **In order to get more accurate predictions, we should try Deep Learning models.**"
   ]
  }
 ],
 "metadata": {
  "colab": {
   "name": "Mercari_advModel.ipynb",
   "provenance": []
  },
  "kernelspec": {
   "display_name": "Python 3",
   "language": "python",
   "name": "python3"
  },
  "language_info": {
   "codemirror_mode": {
    "name": "ipython",
    "version": 3
   },
   "file_extension": ".py",
   "mimetype": "text/x-python",
   "name": "python",
   "nbconvert_exporter": "python",
   "pygments_lexer": "ipython3",
   "version": "3.6.10"
  }
 },
 "nbformat": 4,
 "nbformat_minor": 1
}
